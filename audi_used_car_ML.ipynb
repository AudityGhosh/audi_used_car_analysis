{
 "cells": [
  {
   "cell_type": "markdown",
   "id": "d5a7d192",
   "metadata": {},
   "source": [
    "##### Importing Libraries"
   ]
  },
  {
   "cell_type": "code",
   "execution_count": 101,
   "id": "945c30a5",
   "metadata": {},
   "outputs": [],
   "source": [
    "import pandas as pd\n",
    "import numpy as np\n",
    "\n",
    "import seaborn as sns\n",
    "import matplotlib.pyplot as plt\n",
    "\n",
    "from sklearn.preprocessing import LabelEncoder\n",
    "\n",
    "from sklearn.model_selection import train_test_split\n",
    "from sklearn.linear_model import LinearRegression\n",
    "\n",
    "from sklearn.metrics import mean_squared_error, mean_absolute_error, r2_score, mean_absolute_percentage_error"
   ]
  },
  {
   "cell_type": "markdown",
   "id": "8b1df955",
   "metadata": {},
   "source": [
    "##### Loading the dataset"
   ]
  },
  {
   "cell_type": "code",
   "execution_count": 102,
   "id": "23fe15f2",
   "metadata": {},
   "outputs": [
    {
     "data": {
      "text/html": [
       "<div>\n",
       "<style scoped>\n",
       "    .dataframe tbody tr th:only-of-type {\n",
       "        vertical-align: middle;\n",
       "    }\n",
       "\n",
       "    .dataframe tbody tr th {\n",
       "        vertical-align: top;\n",
       "    }\n",
       "\n",
       "    .dataframe thead th {\n",
       "        text-align: right;\n",
       "    }\n",
       "</style>\n",
       "<table border=\"1\" class=\"dataframe\">\n",
       "  <thead>\n",
       "    <tr style=\"text-align: right;\">\n",
       "      <th></th>\n",
       "      <th>model</th>\n",
       "      <th>year</th>\n",
       "      <th>price</th>\n",
       "      <th>transmission</th>\n",
       "      <th>mileage</th>\n",
       "      <th>fuelType</th>\n",
       "      <th>mpg</th>\n",
       "      <th>engineSize</th>\n",
       "    </tr>\n",
       "  </thead>\n",
       "  <tbody>\n",
       "    <tr>\n",
       "      <th>0</th>\n",
       "      <td>A1</td>\n",
       "      <td>2017</td>\n",
       "      <td>12500</td>\n",
       "      <td>Manual</td>\n",
       "      <td>15735</td>\n",
       "      <td>Petrol</td>\n",
       "      <td>55.4</td>\n",
       "      <td>1.4</td>\n",
       "    </tr>\n",
       "    <tr>\n",
       "      <th>1</th>\n",
       "      <td>A6</td>\n",
       "      <td>2016</td>\n",
       "      <td>16500</td>\n",
       "      <td>Automatic</td>\n",
       "      <td>36203</td>\n",
       "      <td>Diesel</td>\n",
       "      <td>64.2</td>\n",
       "      <td>2.0</td>\n",
       "    </tr>\n",
       "    <tr>\n",
       "      <th>2</th>\n",
       "      <td>A1</td>\n",
       "      <td>2016</td>\n",
       "      <td>11000</td>\n",
       "      <td>Manual</td>\n",
       "      <td>29946</td>\n",
       "      <td>Petrol</td>\n",
       "      <td>55.4</td>\n",
       "      <td>1.4</td>\n",
       "    </tr>\n",
       "    <tr>\n",
       "      <th>3</th>\n",
       "      <td>A4</td>\n",
       "      <td>2017</td>\n",
       "      <td>16800</td>\n",
       "      <td>Automatic</td>\n",
       "      <td>25952</td>\n",
       "      <td>Diesel</td>\n",
       "      <td>67.3</td>\n",
       "      <td>2.0</td>\n",
       "    </tr>\n",
       "    <tr>\n",
       "      <th>4</th>\n",
       "      <td>A3</td>\n",
       "      <td>2019</td>\n",
       "      <td>17300</td>\n",
       "      <td>Manual</td>\n",
       "      <td>1998</td>\n",
       "      <td>Petrol</td>\n",
       "      <td>49.6</td>\n",
       "      <td>1.0</td>\n",
       "    </tr>\n",
       "  </tbody>\n",
       "</table>\n",
       "</div>"
      ],
      "text/plain": [
       "  model  year  price transmission  mileage fuelType   mpg  engineSize\n",
       "0    A1  2017  12500       Manual    15735   Petrol  55.4         1.4\n",
       "1    A6  2016  16500    Automatic    36203   Diesel  64.2         2.0\n",
       "2    A1  2016  11000       Manual    29946   Petrol  55.4         1.4\n",
       "3    A4  2017  16800    Automatic    25952   Diesel  67.3         2.0\n",
       "4    A3  2019  17300       Manual     1998   Petrol  49.6         1.0"
      ]
     },
     "metadata": {},
     "output_type": "display_data"
    },
    {
     "name": "stdout",
     "output_type": "stream",
     "text": [
      "(10668, 8)\n"
     ]
    }
   ],
   "source": [
    "df = pd.read_csv(\"audi.csv\")\n",
    "\n",
    "display(df.head())\n",
    "print(df.shape)"
   ]
  },
  {
   "cell_type": "code",
   "execution_count": 103,
   "id": "34f6cd71",
   "metadata": {},
   "outputs": [
    {
     "name": "stdout",
     "output_type": "stream",
     "text": [
      "<class 'pandas.core.frame.DataFrame'>\n",
      "RangeIndex: 10668 entries, 0 to 10667\n",
      "Data columns (total 8 columns):\n",
      " #   Column        Non-Null Count  Dtype  \n",
      "---  ------        --------------  -----  \n",
      " 0   model         10668 non-null  object \n",
      " 1   year          10668 non-null  int64  \n",
      " 2   price         10668 non-null  int64  \n",
      " 3   transmission  10668 non-null  object \n",
      " 4   mileage       10668 non-null  int64  \n",
      " 5   fuelType      10668 non-null  object \n",
      " 6   mpg           10668 non-null  float64\n",
      " 7   engineSize    10668 non-null  float64\n",
      "dtypes: float64(2), int64(3), object(3)\n",
      "memory usage: 666.9+ KB\n"
     ]
    }
   ],
   "source": [
    "df.info()"
   ]
  },
  {
   "cell_type": "markdown",
   "id": "05b7991c",
   "metadata": {},
   "source": [
    "Here, our dataset has 7 features and 1 target variable named \"price\". \n",
    "- Numerical features are year, mileage, mpg and engineSize\n",
    "- Categorical features are model, transmission and fuelType"
   ]
  },
  {
   "cell_type": "code",
   "execution_count": 104,
   "id": "8a9f9dac",
   "metadata": {},
   "outputs": [
    {
     "data": {
      "text/html": [
       "<div>\n",
       "<style scoped>\n",
       "    .dataframe tbody tr th:only-of-type {\n",
       "        vertical-align: middle;\n",
       "    }\n",
       "\n",
       "    .dataframe tbody tr th {\n",
       "        vertical-align: top;\n",
       "    }\n",
       "\n",
       "    .dataframe thead th {\n",
       "        text-align: right;\n",
       "    }\n",
       "</style>\n",
       "<table border=\"1\" class=\"dataframe\">\n",
       "  <thead>\n",
       "    <tr style=\"text-align: right;\">\n",
       "      <th></th>\n",
       "      <th>year</th>\n",
       "      <th>price</th>\n",
       "      <th>mileage</th>\n",
       "      <th>mpg</th>\n",
       "      <th>engineSize</th>\n",
       "    </tr>\n",
       "  </thead>\n",
       "  <tbody>\n",
       "    <tr>\n",
       "      <th>count</th>\n",
       "      <td>10668.000000</td>\n",
       "      <td>10668.000000</td>\n",
       "      <td>10668.000000</td>\n",
       "      <td>10668.000000</td>\n",
       "      <td>10668.000000</td>\n",
       "    </tr>\n",
       "    <tr>\n",
       "      <th>mean</th>\n",
       "      <td>2017.100675</td>\n",
       "      <td>22896.685039</td>\n",
       "      <td>24827.244001</td>\n",
       "      <td>50.770022</td>\n",
       "      <td>1.930709</td>\n",
       "    </tr>\n",
       "    <tr>\n",
       "      <th>std</th>\n",
       "      <td>2.167494</td>\n",
       "      <td>11714.841888</td>\n",
       "      <td>23505.257205</td>\n",
       "      <td>12.949782</td>\n",
       "      <td>0.602957</td>\n",
       "    </tr>\n",
       "    <tr>\n",
       "      <th>min</th>\n",
       "      <td>1997.000000</td>\n",
       "      <td>1490.000000</td>\n",
       "      <td>1.000000</td>\n",
       "      <td>18.900000</td>\n",
       "      <td>0.000000</td>\n",
       "    </tr>\n",
       "    <tr>\n",
       "      <th>25%</th>\n",
       "      <td>2016.000000</td>\n",
       "      <td>15130.750000</td>\n",
       "      <td>5968.750000</td>\n",
       "      <td>40.900000</td>\n",
       "      <td>1.500000</td>\n",
       "    </tr>\n",
       "    <tr>\n",
       "      <th>50%</th>\n",
       "      <td>2017.000000</td>\n",
       "      <td>20200.000000</td>\n",
       "      <td>19000.000000</td>\n",
       "      <td>49.600000</td>\n",
       "      <td>2.000000</td>\n",
       "    </tr>\n",
       "    <tr>\n",
       "      <th>75%</th>\n",
       "      <td>2019.000000</td>\n",
       "      <td>27990.000000</td>\n",
       "      <td>36464.500000</td>\n",
       "      <td>58.900000</td>\n",
       "      <td>2.000000</td>\n",
       "    </tr>\n",
       "    <tr>\n",
       "      <th>max</th>\n",
       "      <td>2020.000000</td>\n",
       "      <td>145000.000000</td>\n",
       "      <td>323000.000000</td>\n",
       "      <td>188.300000</td>\n",
       "      <td>6.300000</td>\n",
       "    </tr>\n",
       "  </tbody>\n",
       "</table>\n",
       "</div>"
      ],
      "text/plain": [
       "               year          price        mileage           mpg    engineSize\n",
       "count  10668.000000   10668.000000   10668.000000  10668.000000  10668.000000\n",
       "mean    2017.100675   22896.685039   24827.244001     50.770022      1.930709\n",
       "std        2.167494   11714.841888   23505.257205     12.949782      0.602957\n",
       "min     1997.000000    1490.000000       1.000000     18.900000      0.000000\n",
       "25%     2016.000000   15130.750000    5968.750000     40.900000      1.500000\n",
       "50%     2017.000000   20200.000000   19000.000000     49.600000      2.000000\n",
       "75%     2019.000000   27990.000000   36464.500000     58.900000      2.000000\n",
       "max     2020.000000  145000.000000  323000.000000    188.300000      6.300000"
      ]
     },
     "execution_count": 104,
     "metadata": {},
     "output_type": "execute_result"
    }
   ],
   "source": [
    "df.describe()"
   ]
  },
  {
   "cell_type": "code",
   "execution_count": 105,
   "id": "9eaf1ee7",
   "metadata": {},
   "outputs": [
    {
     "data": {
      "text/plain": [
       "Index(['model', 'year', 'price', 'transmission', 'mileage', 'fuelType', 'mpg',\n",
       "       'engineSize'],\n",
       "      dtype='object')"
      ]
     },
     "execution_count": 105,
     "metadata": {},
     "output_type": "execute_result"
    }
   ],
   "source": [
    "df.columns"
   ]
  },
  {
   "cell_type": "markdown",
   "id": "763491a1",
   "metadata": {},
   "source": [
    "#### Analysis of Categorical Features"
   ]
  },
  {
   "cell_type": "code",
   "execution_count": 106,
   "id": "146cbf20",
   "metadata": {},
   "outputs": [
    {
     "name": "stdout",
     "output_type": "stream",
     "text": [
      "26\n"
     ]
    },
    {
     "data": {
      "text/plain": [
       " A3     1929\n",
       " Q3     1417\n",
       " A4     1381\n",
       " A1     1347\n",
       " A5      882\n",
       " Q5      877\n",
       " Q2      822\n",
       " A6      748\n",
       " Q7      397\n",
       " TT      336\n",
       " A7      122\n",
       " A8      118\n",
       " Q8       69\n",
       " RS6      39\n",
       " RS3      33\n",
       " RS4      31\n",
       " RS5      29\n",
       " R8       28\n",
       " S3       18\n",
       " SQ5      16\n",
       " S4       12\n",
       " SQ7       8\n",
       " S8        4\n",
       " S5        3\n",
       " RS7       1\n",
       " A2        1\n",
       "Name: model, dtype: int64"
      ]
     },
     "execution_count": 106,
     "metadata": {},
     "output_type": "execute_result"
    }
   ],
   "source": [
    "print(len(df['model'].unique()))\n",
    "df[\"model\"].value_counts()"
   ]
  },
  {
   "cell_type": "markdown",
   "id": "24660e47",
   "metadata": {},
   "source": [
    "There are 26 types of models of cars in the audi dataset."
   ]
  },
  {
   "cell_type": "code",
   "execution_count": 107,
   "id": "ab17ce5c",
   "metadata": {},
   "outputs": [
    {
     "name": "stdout",
     "output_type": "stream",
     "text": [
      "3\n"
     ]
    },
    {
     "data": {
      "text/plain": [
       "Manual       4369\n",
       "Semi-Auto    3591\n",
       "Automatic    2708\n",
       "Name: transmission, dtype: int64"
      ]
     },
     "execution_count": 107,
     "metadata": {},
     "output_type": "execute_result"
    }
   ],
   "source": [
    "print(len(df['transmission'].unique()))\n",
    "df[\"transmission\"].value_counts()"
   ]
  },
  {
   "cell_type": "markdown",
   "id": "9e17ff1f",
   "metadata": {},
   "source": [
    "There are 3 types of transmission of cars in the audi dataset."
   ]
  },
  {
   "cell_type": "code",
   "execution_count": 108,
   "id": "22792714",
   "metadata": {},
   "outputs": [
    {
     "name": "stdout",
     "output_type": "stream",
     "text": [
      "3\n"
     ]
    },
    {
     "data": {
      "text/plain": [
       "Diesel    5577\n",
       "Petrol    5063\n",
       "Hybrid      28\n",
       "Name: fuelType, dtype: int64"
      ]
     },
     "execution_count": 108,
     "metadata": {},
     "output_type": "execute_result"
    }
   ],
   "source": [
    "print(len(df['fuelType'].unique()))\n",
    "df[\"fuelType\"].value_counts()"
   ]
  },
  {
   "cell_type": "markdown",
   "id": "baac2ea5",
   "metadata": {},
   "source": [
    "There are 3 types of fuelType of cars in the audi dataset."
   ]
  },
  {
   "cell_type": "markdown",
   "id": "a4cc4f5b",
   "metadata": {},
   "source": [
    "#### Computing the correlation among variables"
   ]
  },
  {
   "cell_type": "code",
   "execution_count": 109,
   "id": "edbd9ab0",
   "metadata": {},
   "outputs": [
    {
     "data": {
      "text/html": [
       "<div>\n",
       "<style scoped>\n",
       "    .dataframe tbody tr th:only-of-type {\n",
       "        vertical-align: middle;\n",
       "    }\n",
       "\n",
       "    .dataframe tbody tr th {\n",
       "        vertical-align: top;\n",
       "    }\n",
       "\n",
       "    .dataframe thead th {\n",
       "        text-align: right;\n",
       "    }\n",
       "</style>\n",
       "<table border=\"1\" class=\"dataframe\">\n",
       "  <thead>\n",
       "    <tr style=\"text-align: right;\">\n",
       "      <th></th>\n",
       "      <th>year</th>\n",
       "      <th>price</th>\n",
       "      <th>mileage</th>\n",
       "      <th>mpg</th>\n",
       "      <th>engineSize</th>\n",
       "    </tr>\n",
       "  </thead>\n",
       "  <tbody>\n",
       "    <tr>\n",
       "      <th>year</th>\n",
       "      <td>1.000000</td>\n",
       "      <td>0.592581</td>\n",
       "      <td>-0.789667</td>\n",
       "      <td>-0.351281</td>\n",
       "      <td>-0.031582</td>\n",
       "    </tr>\n",
       "    <tr>\n",
       "      <th>price</th>\n",
       "      <td>0.592581</td>\n",
       "      <td>1.000000</td>\n",
       "      <td>-0.535357</td>\n",
       "      <td>-0.600334</td>\n",
       "      <td>0.591262</td>\n",
       "    </tr>\n",
       "    <tr>\n",
       "      <th>mileage</th>\n",
       "      <td>-0.789667</td>\n",
       "      <td>-0.535357</td>\n",
       "      <td>1.000000</td>\n",
       "      <td>0.395103</td>\n",
       "      <td>0.070710</td>\n",
       "    </tr>\n",
       "    <tr>\n",
       "      <th>mpg</th>\n",
       "      <td>-0.351281</td>\n",
       "      <td>-0.600334</td>\n",
       "      <td>0.395103</td>\n",
       "      <td>1.000000</td>\n",
       "      <td>-0.365621</td>\n",
       "    </tr>\n",
       "    <tr>\n",
       "      <th>engineSize</th>\n",
       "      <td>-0.031582</td>\n",
       "      <td>0.591262</td>\n",
       "      <td>0.070710</td>\n",
       "      <td>-0.365621</td>\n",
       "      <td>1.000000</td>\n",
       "    </tr>\n",
       "  </tbody>\n",
       "</table>\n",
       "</div>"
      ],
      "text/plain": [
       "                year     price   mileage       mpg  engineSize\n",
       "year        1.000000  0.592581 -0.789667 -0.351281   -0.031582\n",
       "price       0.592581  1.000000 -0.535357 -0.600334    0.591262\n",
       "mileage    -0.789667 -0.535357  1.000000  0.395103    0.070710\n",
       "mpg        -0.351281 -0.600334  0.395103  1.000000   -0.365621\n",
       "engineSize -0.031582  0.591262  0.070710 -0.365621    1.000000"
      ]
     },
     "metadata": {},
     "output_type": "display_data"
    }
   ],
   "source": [
    "df_cor = df.corr()\n",
    "\n",
    "display(df_cor)"
   ]
  },
  {
   "cell_type": "markdown",
   "id": "8d943216",
   "metadata": {},
   "source": [
    "Positive value of correlation means the increase of a variable because of the increase of another variable.\n",
    "Negative value of correlation means the decrease of a variable because of the increase of another variable."
   ]
  },
  {
   "cell_type": "code",
   "execution_count": 110,
   "id": "f617e42d",
   "metadata": {},
   "outputs": [
    {
     "data": {
      "image/png": "[encoded data removed]",
      "text/plain": [
       "<Figure size 864x432 with 2 Axes>"
      ]
     },
     "metadata": {
      "needs_background": "light"
     },
     "output_type": "display_data"
    }
   ],
   "source": [
    "plt.figure(figsize=(12,6))\n",
    "sns.heatmap(df_cor, annot=True, cmap=\"RdYlGn\", vmax=1, vmin=-1)\n",
    "plt.title(\"Pearson Correlation Coefficient between the audi used car variables\")\n",
    "plt.show()"
   ]
  },
  {
   "cell_type": "markdown",
   "id": "d6136197",
   "metadata": {},
   "source": [
    "##### Taking all features and target variable"
   ]
  },
  {
   "cell_type": "code",
   "execution_count": 111,
   "id": "0a191f3f",
   "metadata": {},
   "outputs": [
    {
     "data": {
      "text/html": [
       "<div>\n",
       "<style scoped>\n",
       "    .dataframe tbody tr th:only-of-type {\n",
       "        vertical-align: middle;\n",
       "    }\n",
       "\n",
       "    .dataframe tbody tr th {\n",
       "        vertical-align: top;\n",
       "    }\n",
       "\n",
       "    .dataframe thead th {\n",
       "        text-align: right;\n",
       "    }\n",
       "</style>\n",
       "<table border=\"1\" class=\"dataframe\">\n",
       "  <thead>\n",
       "    <tr style=\"text-align: right;\">\n",
       "      <th></th>\n",
       "      <th>year</th>\n",
       "      <th>mileage</th>\n",
       "      <th>mpg</th>\n",
       "      <th>engineSize</th>\n",
       "    </tr>\n",
       "  </thead>\n",
       "  <tbody>\n",
       "    <tr>\n",
       "      <th>0</th>\n",
       "      <td>2017</td>\n",
       "      <td>15735</td>\n",
       "      <td>55.4</td>\n",
       "      <td>1.4</td>\n",
       "    </tr>\n",
       "    <tr>\n",
       "      <th>1</th>\n",
       "      <td>2016</td>\n",
       "      <td>36203</td>\n",
       "      <td>64.2</td>\n",
       "      <td>2.0</td>\n",
       "    </tr>\n",
       "    <tr>\n",
       "      <th>2</th>\n",
       "      <td>2016</td>\n",
       "      <td>29946</td>\n",
       "      <td>55.4</td>\n",
       "      <td>1.4</td>\n",
       "    </tr>\n",
       "    <tr>\n",
       "      <th>3</th>\n",
       "      <td>2017</td>\n",
       "      <td>25952</td>\n",
       "      <td>67.3</td>\n",
       "      <td>2.0</td>\n",
       "    </tr>\n",
       "    <tr>\n",
       "      <th>4</th>\n",
       "      <td>2019</td>\n",
       "      <td>1998</td>\n",
       "      <td>49.6</td>\n",
       "      <td>1.0</td>\n",
       "    </tr>\n",
       "    <tr>\n",
       "      <th>...</th>\n",
       "      <td>...</td>\n",
       "      <td>...</td>\n",
       "      <td>...</td>\n",
       "      <td>...</td>\n",
       "    </tr>\n",
       "    <tr>\n",
       "      <th>10663</th>\n",
       "      <td>2020</td>\n",
       "      <td>4018</td>\n",
       "      <td>49.6</td>\n",
       "      <td>1.0</td>\n",
       "    </tr>\n",
       "    <tr>\n",
       "      <th>10664</th>\n",
       "      <td>2020</td>\n",
       "      <td>1978</td>\n",
       "      <td>49.6</td>\n",
       "      <td>1.0</td>\n",
       "    </tr>\n",
       "    <tr>\n",
       "      <th>10665</th>\n",
       "      <td>2020</td>\n",
       "      <td>609</td>\n",
       "      <td>49.6</td>\n",
       "      <td>1.0</td>\n",
       "    </tr>\n",
       "    <tr>\n",
       "      <th>10666</th>\n",
       "      <td>2017</td>\n",
       "      <td>8646</td>\n",
       "      <td>47.9</td>\n",
       "      <td>1.4</td>\n",
       "    </tr>\n",
       "    <tr>\n",
       "      <th>10667</th>\n",
       "      <td>2016</td>\n",
       "      <td>11855</td>\n",
       "      <td>47.9</td>\n",
       "      <td>1.4</td>\n",
       "    </tr>\n",
       "  </tbody>\n",
       "</table>\n",
       "<p>10668 rows × 4 columns</p>\n",
       "</div>"
      ],
      "text/plain": [
       "       year  mileage   mpg  engineSize\n",
       "0      2017    15735  55.4         1.4\n",
       "1      2016    36203  64.2         2.0\n",
       "2      2016    29946  55.4         1.4\n",
       "3      2017    25952  67.3         2.0\n",
       "4      2019     1998  49.6         1.0\n",
       "...     ...      ...   ...         ...\n",
       "10663  2020     4018  49.6         1.0\n",
       "10664  2020     1978  49.6         1.0\n",
       "10665  2020      609  49.6         1.0\n",
       "10666  2017     8646  47.9         1.4\n",
       "10667  2016    11855  47.9         1.4\n",
       "\n",
       "[10668 rows x 4 columns]"
      ]
     },
     "metadata": {},
     "output_type": "display_data"
    },
    {
     "name": "stdout",
     "output_type": "stream",
     "text": [
      "Shape of X =  (10668, 4)\n",
      "Shape of y =  (10668, 1)\n"
     ]
    }
   ],
   "source": [
    "features = ['year','mileage','mpg', 'engineSize']\n",
    "target = ['price']\n",
    "\n",
    "X = df[features]\n",
    "y = df[target]\n",
    "\n",
    "display(X)\n",
    "print(\"Shape of X = \", X.shape)\n",
    "print(\"Shape of y = \", y.shape)"
   ]
  },
  {
   "cell_type": "markdown",
   "id": "ddbfaa60",
   "metadata": {},
   "source": [
    "#### Train Test Split (80-20)"
   ]
  },
  {
   "cell_type": "code",
   "execution_count": 112,
   "id": "a25d94b7",
   "metadata": {},
   "outputs": [
    {
     "name": "stdout",
     "output_type": "stream",
     "text": [
      "(8534, 4) (2134, 4) (8534, 1) (2134, 1)\n"
     ]
    }
   ],
   "source": [
    "X_train, X_test, y_train, y_test = train_test_split(X, \n",
    "                                                    y,\n",
    "                                                    test_size=0.2, \n",
    "                                                    random_state=42)\n",
    "\n",
    "print(X_train.shape, X_test.shape, y_train.shape, y_test.shape)"
   ]
  },
  {
   "cell_type": "markdown",
   "id": "f2c327f9",
   "metadata": {},
   "source": [
    "#### Applying Linear Regression model"
   ]
  },
  {
   "cell_type": "code",
   "execution_count": 113,
   "id": "9f026836",
   "metadata": {},
   "outputs": [],
   "source": [
    "model = LinearRegression()\n",
    "model = model.fit(X_train, y_train)"
   ]
  },
  {
   "cell_type": "code",
   "execution_count": 114,
   "id": "1700e6d6",
   "metadata": {},
   "outputs": [
    {
     "name": "stdout",
     "output_type": "stream",
     "text": [
      "[[ 2.13753484e+03 -9.45546299e-02 -1.59965967e+02  1.05446050e+04]]\n"
     ]
    }
   ],
   "source": [
    "coefficients = model.coef_\n",
    "print(coefficients)"
   ]
  },
  {
   "cell_type": "code",
   "execution_count": 115,
   "id": "e3ef32fb",
   "metadata": {},
   "outputs": [
    {
     "name": "stdout",
     "output_type": "stream",
     "text": [
      "[-4298678.36912147]\n"
     ]
    }
   ],
   "source": [
    "c = model.intercept_\n",
    "print(c)"
   ]
  },
  {
   "cell_type": "code",
   "execution_count": 116,
   "id": "b5a89be0",
   "metadata": {},
   "outputs": [
    {
     "data": {
      "text/plain": [
       "Index(['year', 'mileage', 'mpg', 'engineSize'], dtype='object')"
      ]
     },
     "execution_count": 116,
     "metadata": {},
     "output_type": "execute_result"
    }
   ],
   "source": [
    "X.columns"
   ]
  },
  {
   "cell_type": "markdown",
   "id": "901f94f2",
   "metadata": {},
   "source": [
    "##### Displaying features with their corrresponding coefficient values"
   ]
  },
  {
   "cell_type": "code",
   "execution_count": 117,
   "id": "7920b47b",
   "metadata": {},
   "outputs": [
    {
     "data": {
      "text/html": [
       "<div>\n",
       "<style scoped>\n",
       "    .dataframe tbody tr th:only-of-type {\n",
       "        vertical-align: middle;\n",
       "    }\n",
       "\n",
       "    .dataframe tbody tr th {\n",
       "        vertical-align: top;\n",
       "    }\n",
       "\n",
       "    .dataframe thead th {\n",
       "        text-align: right;\n",
       "    }\n",
       "</style>\n",
       "<table border=\"1\" class=\"dataframe\">\n",
       "  <thead>\n",
       "    <tr style=\"text-align: right;\">\n",
       "      <th></th>\n",
       "      <th>features</th>\n",
       "      <th>coefficients</th>\n",
       "    </tr>\n",
       "  </thead>\n",
       "  <tbody>\n",
       "    <tr>\n",
       "      <th>0</th>\n",
       "      <td>year</td>\n",
       "      <td>2137.534837</td>\n",
       "    </tr>\n",
       "    <tr>\n",
       "      <th>1</th>\n",
       "      <td>mileage</td>\n",
       "      <td>-0.094555</td>\n",
       "    </tr>\n",
       "    <tr>\n",
       "      <th>2</th>\n",
       "      <td>mpg</td>\n",
       "      <td>-159.965967</td>\n",
       "    </tr>\n",
       "    <tr>\n",
       "      <th>3</th>\n",
       "      <td>engineSize</td>\n",
       "      <td>10544.605045</td>\n",
       "    </tr>\n",
       "  </tbody>\n",
       "</table>\n",
       "</div>"
      ],
      "text/plain": [
       "     features  coefficients\n",
       "0        year   2137.534837\n",
       "1     mileage     -0.094555\n",
       "2         mpg   -159.965967\n",
       "3  engineSize  10544.605045"
      ]
     },
     "metadata": {},
     "output_type": "display_data"
    }
   ],
   "source": [
    "coef_df = pd.DataFrame({\"features\": X.columns, \n",
    "                       \"coefficients\": np.squeeze(coefficients)})\n",
    "\n",
    "display(coef_df)"
   ]
  },
  {
   "cell_type": "markdown",
   "id": "1fc4ee16",
   "metadata": {},
   "source": [
    "#### Predict the price of the car"
   ]
  },
  {
   "cell_type": "code",
   "execution_count": 118,
   "id": "010764c8",
   "metadata": {},
   "outputs": [
    {
     "name": "stdout",
     "output_type": "stream",
     "text": [
      "[[ 8404.61685932]\n",
      " [25242.08315391]\n",
      " [29769.42539605]\n",
      " ...\n",
      " [15223.19196191]\n",
      " [25409.82306727]\n",
      " [12240.88891797]]\n"
     ]
    }
   ],
   "source": [
    "y_pred = model.predict(X_test)\n",
    "print(y_pred)"
   ]
  },
  {
   "cell_type": "code",
   "execution_count": 119,
   "id": "1c4dcda4",
   "metadata": {},
   "outputs": [
    {
     "name": "stdout",
     "output_type": "stream",
     "text": [
      "       price\n",
      "10442   9990\n",
      "2907   22382\n",
      "7388   28990\n",
      "3016   30777\n",
      "7890   14950\n",
      "...      ...\n",
      "8606   31450\n",
      "8977   12900\n",
      "3673   16750\n",
      "1034   21996\n",
      "6867    9547\n",
      "\n",
      "[2134 rows x 1 columns]\n"
     ]
    }
   ],
   "source": [
    "print(y_test)"
   ]
  },
  {
   "cell_type": "markdown",
   "id": "b5a4bbf1",
   "metadata": {},
   "source": [
    "### Compute Key Performance Indicators using built-in function"
   ]
  },
  {
   "cell_type": "code",
   "execution_count": 120,
   "id": "c00ea7a6",
   "metadata": {},
   "outputs": [
    {
     "name": "stdout",
     "output_type": "stream",
     "text": [
      "MAE =  3542.869720248138\n",
      "MSE =  32708382.288602278\n",
      "RMSE =  5719.124258888093\n",
      "r_squared =  0.7835738058689382\n",
      "MAPE =  0.17302472526531137\n"
     ]
    }
   ],
   "source": [
    "MAE = mean_absolute_error(y_test, y_pred)\n",
    "print(\"MAE = \", MAE)\n",
    "\n",
    "MSE = mean_squared_error(y_test, y_pred, squared=True)\n",
    "print(\"MSE = \", MSE)\n",
    "\n",
    "RMSE = mean_squared_error(y_test, y_pred, squared=False)\n",
    "print(\"RMSE = \", RMSE)\n",
    "\n",
    "r2 = r2_score(y_test, y_pred)\n",
    "print(\"r_squared = \", r2)\n",
    "\n",
    "MAPE = mean_absolute_percentage_error(y_test, y_pred)\n",
    "print(\"MAPE = \",MAPE)"
   ]
  },
  {
   "cell_type": "markdown",
   "id": "9bad9729",
   "metadata": {},
   "source": [
    "**Mean absolute error** represents the average of the absolute difference between the actual and predicted values in the dataset. It measures the average of the residuals in the dataset.\n",
    "\n",
    "**Mean Squared Error** represents the average of the squared difference between the original and predicted values in the data set. It measures the variance of the residuals.\n",
    "\n",
    "**Root Mean Squared Error** is the square root of Mean Squared error. It measures the standard deviation of residuals.\n",
    "\n",
    "**Coefficient of determination or R-squared** represents the proportion of the variance in the dependent variable. It is a scale-free score i.e. irrespective of the values being small or large, the value of R square will be less than one.\n",
    "\n",
    "**Mean Absolute Percentage Error** MAPE can be considered as a loss function to define the error termed by the model evaluation. Using MAPE, we can estimate the accuracy in terms of the differences in the actual v/s estimated values.MAE is the average magnitude of error produced by your model, the MAPE is how far the model's predictions are off from their corresponding outputs on average."
   ]
  },
  {
   "cell_type": "markdown",
   "id": "b4c63b9c",
   "metadata": {},
   "source": [
    "### Compute Key Performance Indicators from actual and predicted data"
   ]
  },
  {
   "cell_type": "code",
   "execution_count": 121,
   "id": "0064ea3a",
   "metadata": {},
   "outputs": [
    {
     "data": {
      "text/html": [
       "<div>\n",
       "<style scoped>\n",
       "    .dataframe tbody tr th:only-of-type {\n",
       "        vertical-align: middle;\n",
       "    }\n",
       "\n",
       "    .dataframe tbody tr th {\n",
       "        vertical-align: top;\n",
       "    }\n",
       "\n",
       "    .dataframe thead th {\n",
       "        text-align: right;\n",
       "    }\n",
       "</style>\n",
       "<table border=\"1\" class=\"dataframe\">\n",
       "  <thead>\n",
       "    <tr style=\"text-align: right;\">\n",
       "      <th></th>\n",
       "      <th>price</th>\n",
       "    </tr>\n",
       "  </thead>\n",
       "  <tbody>\n",
       "    <tr>\n",
       "      <th>10442</th>\n",
       "      <td>9990</td>\n",
       "    </tr>\n",
       "    <tr>\n",
       "      <th>2907</th>\n",
       "      <td>22382</td>\n",
       "    </tr>\n",
       "    <tr>\n",
       "      <th>7388</th>\n",
       "      <td>28990</td>\n",
       "    </tr>\n",
       "    <tr>\n",
       "      <th>3016</th>\n",
       "      <td>30777</td>\n",
       "    </tr>\n",
       "    <tr>\n",
       "      <th>7890</th>\n",
       "      <td>14950</td>\n",
       "    </tr>\n",
       "    <tr>\n",
       "      <th>...</th>\n",
       "      <td>...</td>\n",
       "    </tr>\n",
       "    <tr>\n",
       "      <th>8606</th>\n",
       "      <td>31450</td>\n",
       "    </tr>\n",
       "    <tr>\n",
       "      <th>8977</th>\n",
       "      <td>12900</td>\n",
       "    </tr>\n",
       "    <tr>\n",
       "      <th>3673</th>\n",
       "      <td>16750</td>\n",
       "    </tr>\n",
       "    <tr>\n",
       "      <th>1034</th>\n",
       "      <td>21996</td>\n",
       "    </tr>\n",
       "    <tr>\n",
       "      <th>6867</th>\n",
       "      <td>9547</td>\n",
       "    </tr>\n",
       "  </tbody>\n",
       "</table>\n",
       "<p>2134 rows × 1 columns</p>\n",
       "</div>"
      ],
      "text/plain": [
       "       price\n",
       "10442   9990\n",
       "2907   22382\n",
       "7388   28990\n",
       "3016   30777\n",
       "7890   14950\n",
       "...      ...\n",
       "8606   31450\n",
       "8977   12900\n",
       "3673   16750\n",
       "1034   21996\n",
       "6867    9547\n",
       "\n",
       "[2134 rows x 1 columns]"
      ]
     },
     "execution_count": 121,
     "metadata": {},
     "output_type": "execute_result"
    }
   ],
   "source": [
    "y_test"
   ]
  },
  {
   "cell_type": "code",
   "execution_count": 122,
   "id": "f4cd6b30",
   "metadata": {},
   "outputs": [
    {
     "data": {
      "text/plain": [
       "array([[ 8404.61685932],\n",
       "       [25242.08315391],\n",
       "       [29769.42539605],\n",
       "       ...,\n",
       "       [15223.19196191],\n",
       "       [25409.82306727],\n",
       "       [12240.88891797]])"
      ]
     },
     "execution_count": 122,
     "metadata": {},
     "output_type": "execute_result"
    }
   ],
   "source": [
    "y_pred"
   ]
  },
  {
   "cell_type": "code",
   "execution_count": 123,
   "id": "1f585ca3",
   "metadata": {},
   "outputs": [
    {
     "data": {
      "text/plain": [
       "array([ 8404.61685932, 25242.08315391, 29769.42539605, ...,\n",
       "       15223.19196191, 25409.82306727, 12240.88891797])"
      ]
     },
     "execution_count": 123,
     "metadata": {},
     "output_type": "execute_result"
    }
   ],
   "source": [
    "y_pred_f = y_pred.flatten()\n",
    "y_pred_f"
   ]
  },
  {
   "cell_type": "code",
   "execution_count": 124,
   "id": "faa35b4e",
   "metadata": {},
   "outputs": [
    {
     "data": {
      "text/plain": [
       "array([[ 9990],\n",
       "       [22382],\n",
       "       [28990],\n",
       "       ...,\n",
       "       [16750],\n",
       "       [21996],\n",
       "       [ 9547]], dtype=int64)"
      ]
     },
     "execution_count": 124,
     "metadata": {},
     "output_type": "execute_result"
    }
   ],
   "source": [
    "y_test_np = y_test.to_numpy()\n",
    "y_test_np"
   ]
  },
  {
   "cell_type": "code",
   "execution_count": 125,
   "id": "9c26b00e",
   "metadata": {},
   "outputs": [
    {
     "data": {
      "text/plain": [
       "array([ 9990, 22382, 28990, ..., 16750, 21996,  9547], dtype=int64)"
      ]
     },
     "execution_count": 125,
     "metadata": {},
     "output_type": "execute_result"
    }
   ],
   "source": [
    "y_test_f = y_test_np.flatten()\n",
    "y_test_f"
   ]
  },
  {
   "cell_type": "code",
   "execution_count": 126,
   "id": "5d59353b",
   "metadata": {},
   "outputs": [
    {
     "data": {
      "text/html": [
       "<div>\n",
       "<style scoped>\n",
       "    .dataframe tbody tr th:only-of-type {\n",
       "        vertical-align: middle;\n",
       "    }\n",
       "\n",
       "    .dataframe tbody tr th {\n",
       "        vertical-align: top;\n",
       "    }\n",
       "\n",
       "    .dataframe thead th {\n",
       "        text-align: right;\n",
       "    }\n",
       "</style>\n",
       "<table border=\"1\" class=\"dataframe\">\n",
       "  <thead>\n",
       "    <tr style=\"text-align: right;\">\n",
       "      <th></th>\n",
       "      <th>actual</th>\n",
       "      <th>predicted</th>\n",
       "      <th>dif</th>\n",
       "      <th>abs_error</th>\n",
       "      <th>squared_error</th>\n",
       "      <th>actual_subtract_mean</th>\n",
       "      <th>squared_actual_subtract_mean</th>\n",
       "    </tr>\n",
       "  </thead>\n",
       "  <tbody>\n",
       "    <tr>\n",
       "      <th>0</th>\n",
       "      <td>9990</td>\n",
       "      <td>8404.616859</td>\n",
       "      <td>1585.383141</td>\n",
       "      <td>1585.383141</td>\n",
       "      <td>2.513440e+06</td>\n",
       "      <td>-13202.334583</td>\n",
       "      <td>1.743016e+08</td>\n",
       "    </tr>\n",
       "    <tr>\n",
       "      <th>1</th>\n",
       "      <td>22382</td>\n",
       "      <td>25242.083154</td>\n",
       "      <td>-2860.083154</td>\n",
       "      <td>2860.083154</td>\n",
       "      <td>8.180076e+06</td>\n",
       "      <td>-810.334583</td>\n",
       "      <td>6.566421e+05</td>\n",
       "    </tr>\n",
       "    <tr>\n",
       "      <th>2</th>\n",
       "      <td>28990</td>\n",
       "      <td>29769.425396</td>\n",
       "      <td>-779.425396</td>\n",
       "      <td>779.425396</td>\n",
       "      <td>6.075039e+05</td>\n",
       "      <td>5797.665417</td>\n",
       "      <td>3.361292e+07</td>\n",
       "    </tr>\n",
       "    <tr>\n",
       "      <th>3</th>\n",
       "      <td>30777</td>\n",
       "      <td>27533.283872</td>\n",
       "      <td>3243.716128</td>\n",
       "      <td>3243.716128</td>\n",
       "      <td>1.052169e+07</td>\n",
       "      <td>7584.665417</td>\n",
       "      <td>5.752715e+07</td>\n",
       "    </tr>\n",
       "    <tr>\n",
       "      <th>4</th>\n",
       "      <td>14950</td>\n",
       "      <td>15051.857525</td>\n",
       "      <td>-101.857525</td>\n",
       "      <td>101.857525</td>\n",
       "      <td>1.037496e+04</td>\n",
       "      <td>-8242.334583</td>\n",
       "      <td>6.793608e+07</td>\n",
       "    </tr>\n",
       "    <tr>\n",
       "      <th>...</th>\n",
       "      <td>...</td>\n",
       "      <td>...</td>\n",
       "      <td>...</td>\n",
       "      <td>...</td>\n",
       "      <td>...</td>\n",
       "      <td>...</td>\n",
       "      <td>...</td>\n",
       "    </tr>\n",
       "    <tr>\n",
       "      <th>2129</th>\n",
       "      <td>31450</td>\n",
       "      <td>32477.676699</td>\n",
       "      <td>-1027.676699</td>\n",
       "      <td>1027.676699</td>\n",
       "      <td>1.056119e+06</td>\n",
       "      <td>8257.665417</td>\n",
       "      <td>6.818904e+07</td>\n",
       "    </tr>\n",
       "    <tr>\n",
       "      <th>2130</th>\n",
       "      <td>12900</td>\n",
       "      <td>18914.493013</td>\n",
       "      <td>-6014.493013</td>\n",
       "      <td>6014.493013</td>\n",
       "      <td>3.617413e+07</td>\n",
       "      <td>-10292.334583</td>\n",
       "      <td>1.059322e+08</td>\n",
       "    </tr>\n",
       "    <tr>\n",
       "      <th>2131</th>\n",
       "      <td>16750</td>\n",
       "      <td>15223.191962</td>\n",
       "      <td>1526.808038</td>\n",
       "      <td>1526.808038</td>\n",
       "      <td>2.331143e+06</td>\n",
       "      <td>-6442.334583</td>\n",
       "      <td>4.150367e+07</td>\n",
       "    </tr>\n",
       "    <tr>\n",
       "      <th>2132</th>\n",
       "      <td>21996</td>\n",
       "      <td>25409.823067</td>\n",
       "      <td>-3413.823067</td>\n",
       "      <td>3413.823067</td>\n",
       "      <td>1.165419e+07</td>\n",
       "      <td>-1196.334583</td>\n",
       "      <td>1.431216e+06</td>\n",
       "    </tr>\n",
       "    <tr>\n",
       "      <th>2133</th>\n",
       "      <td>9547</td>\n",
       "      <td>12240.888918</td>\n",
       "      <td>-2693.888918</td>\n",
       "      <td>2693.888918</td>\n",
       "      <td>7.257038e+06</td>\n",
       "      <td>-13645.334583</td>\n",
       "      <td>1.861952e+08</td>\n",
       "    </tr>\n",
       "  </tbody>\n",
       "</table>\n",
       "<p>2134 rows × 7 columns</p>\n",
       "</div>"
      ],
      "text/plain": [
       "      actual     predicted          dif    abs_error  squared_error  \\\n",
       "0       9990   8404.616859  1585.383141  1585.383141   2.513440e+06   \n",
       "1      22382  25242.083154 -2860.083154  2860.083154   8.180076e+06   \n",
       "2      28990  29769.425396  -779.425396   779.425396   6.075039e+05   \n",
       "3      30777  27533.283872  3243.716128  3243.716128   1.052169e+07   \n",
       "4      14950  15051.857525  -101.857525   101.857525   1.037496e+04   \n",
       "...      ...           ...          ...          ...            ...   \n",
       "2129   31450  32477.676699 -1027.676699  1027.676699   1.056119e+06   \n",
       "2130   12900  18914.493013 -6014.493013  6014.493013   3.617413e+07   \n",
       "2131   16750  15223.191962  1526.808038  1526.808038   2.331143e+06   \n",
       "2132   21996  25409.823067 -3413.823067  3413.823067   1.165419e+07   \n",
       "2133    9547  12240.888918 -2693.888918  2693.888918   7.257038e+06   \n",
       "\n",
       "      actual_subtract_mean  squared_actual_subtract_mean  \n",
       "0            -13202.334583                  1.743016e+08  \n",
       "1              -810.334583                  6.566421e+05  \n",
       "2              5797.665417                  3.361292e+07  \n",
       "3              7584.665417                  5.752715e+07  \n",
       "4             -8242.334583                  6.793608e+07  \n",
       "...                    ...                           ...  \n",
       "2129           8257.665417                  6.818904e+07  \n",
       "2130         -10292.334583                  1.059322e+08  \n",
       "2131          -6442.334583                  4.150367e+07  \n",
       "2132          -1196.334583                  1.431216e+06  \n",
       "2133         -13645.334583                  1.861952e+08  \n",
       "\n",
       "[2134 rows x 7 columns]"
      ]
     },
     "metadata": {},
     "output_type": "display_data"
    }
   ],
   "source": [
    "df_pred_actual = pd.DataFrame({\"actual\":y_test_f,\n",
    "                   \"predicted\": y_pred_f})\n",
    "df_pred_actual[\"dif\"] = df_pred_actual[\"actual\"] - df_pred_actual[\"predicted\"]\n",
    "df_pred_actual[\"abs_error\"] = np.abs(df_pred_actual[\"dif\"])\n",
    "df_pred_actual[\"squared_error\"] = df_pred_actual[\"dif\"]**2\n",
    "\n",
    "df_pred_actual[\"actual_subtract_mean\"] = df_pred_actual[\"actual\"] - df_pred_actual[\"actual\"].mean()\n",
    "df_pred_actual[\"squared_actual_subtract_mean\"] = df_pred_actual[\"actual_subtract_mean\"]**2\n",
    "\n",
    "display(df_pred_actual)\n"
   ]
  },
  {
   "cell_type": "code",
   "execution_count": 127,
   "id": "ca816b75",
   "metadata": {},
   "outputs": [
    {
     "data": {
      "text/plain": [
       "23192.33458294283"
      ]
     },
     "execution_count": 127,
     "metadata": {},
     "output_type": "execute_result"
    }
   ],
   "source": [
    "df_pred_actual[\"actual\"].mean()"
   ]
  },
  {
   "cell_type": "code",
   "execution_count": 128,
   "id": "2acebe7c",
   "metadata": {},
   "outputs": [
    {
     "name": "stdout",
     "output_type": "stream",
     "text": [
      "MAE =  3542.869720248138\n",
      "MSE =  32708382.288602278\n",
      "RMSE =  5719.12\n",
      "r_squared =  0.78\n",
      "MAPE =  17.3\n"
     ]
    }
   ],
   "source": [
    "# mean absolute error: lower is better\n",
    "MAE = df_pred_actual[\"abs_error\"].mean()\n",
    "print(\"MAE = \", MAE)\n",
    "\n",
    "\n",
    "# mean squared error: lower is better\n",
    "MSE = df_pred_actual[\"squared_error\"].mean()\n",
    "print(\"MSE = \", MSE)\n",
    "\n",
    "# root mean squared error: lower is better\n",
    "RMSE = np.round(np.sqrt(MSE), 2)\n",
    "print(\"RMSE = \", RMSE)\n",
    "\n",
    "# coefficient of determination == r_squared: greater is better. Max =1, min=-\n",
    "r_squared = np.round(1- df_pred_actual[\"squared_error\"].sum()/df_pred_actual[\"squared_actual_subtract_mean\"].sum(), 2)\n",
    "print(\"r_squared = \", r_squared)\n",
    "\n",
    "# MAPE: Mean Absolute Percentage Error: lower is better\n",
    "MAPE = np.round(np.mean(df_pred_actual[\"abs_error\"]/df_pred_actual[\"actual\"])*100, 2)\n",
    "print(\"MAPE = \", MAPE)"
   ]
  },
  {
   "cell_type": "markdown",
   "id": "3f21a3e7",
   "metadata": {},
   "source": [
    "##### If we compare these results with the results calculated using built-in functions, they are identical"
   ]
  }
 ],
 "metadata": {
  "kernelspec": {
   "display_name": "Python 3 (ipykernel)",
   "language": "python",
   "name": "python3"
  },
  "language_info": {
   "codemirror_mode": {
    "name": "ipython",
    "version": 3
   },
   "file_extension": ".py",
   "mimetype": "text/x-python",
   "name": "python",
   "nbconvert_exporter": "python",
   "pygments_lexer": "ipython3",
   "version": "3.9.5"
  }
 },
 "nbformat": 4,
 "nbformat_minor": 5
}
